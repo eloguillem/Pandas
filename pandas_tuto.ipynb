{
 "cells": [
  {
   "cell_type": "markdown",
   "id": "9b513268",
   "metadata": {},
   "source": [
    "## Import libraries"
   ]
  },
  {
   "cell_type": "code",
   "execution_count": 1,
   "id": "e4910cf6",
   "metadata": {},
   "outputs": [],
   "source": [
    "import pandas as pd\n",
    "import numpy as np\n",
    "import matplotlib.pyplot as plt"
   ]
  },
  {
   "cell_type": "markdown",
   "id": "81270484",
   "metadata": {},
   "source": [
    "## Pandas Data structures\n",
    "\n",
    "### Series\n",
    "\n",
    "Series is a one-dimensional labeled array capable of holding any data type (integers, strings, floating point numbers, Python objects, etc.).\n",
    "\n",
    "You can:\n",
    "- Create a table (a Python dictionnary, a ndarray or else) and convert it to Series (resp. DataFrame), \n",
    "- or load a pandas database,\n",
    "- or load a local file (in csv or other format). "
   ]
  },
  {
   "cell_type": "code",
   "execution_count": 2,
   "id": "0520ce4b",
   "metadata": {},
   "outputs": [],
   "source": [
    "# Create a Series from a ndarray 1D\n",
    "grades = [ 12 , 5 , 18 , 10 , 12 , 11 , 3 ] # Grades on /20 of a group of 7 students \n",
    "# Convert to a Series\n",
    "grades = pd.Series(grades)"
   ]
  },
  {
   "cell_type": "markdown",
   "id": "72758e9b",
   "metadata": {},
   "source": [
    "You can name the columns or the line (corresponding to \"index\" in the Series)."
   ]
  },
  {
   "cell_type": "code",
   "execution_count": 3,
   "id": "0b6df182",
   "metadata": {},
   "outputs": [],
   "source": [
    "grades.index = [\"student 1\",\"student 2\",\"student 3\",\"student 4\",\"student 5\",\"student 6\",\"student 7\"]"
   ]
  },
  {
   "cell_type": "markdown",
   "id": "088c3024",
   "metadata": {},
   "source": [
    "Let's verify the type of grades, it should be a Series now."
   ]
  },
  {
   "cell_type": "code",
   "execution_count": 4,
   "id": "b4a522e2",
   "metadata": {},
   "outputs": [
    {
     "data": {
      "text/plain": [
       "pandas.core.series.Series"
      ]
     },
     "execution_count": 4,
     "metadata": {},
     "output_type": "execute_result"
    }
   ],
   "source": [
    "type(grades)"
   ]
  },
  {
   "cell_type": "markdown",
   "id": "169a8713",
   "metadata": {},
   "source": [
    "Now, let's see the dimensions: number of lines and columns."
   ]
  },
  {
   "cell_type": "code",
   "execution_count": 5,
   "id": "98962dea",
   "metadata": {},
   "outputs": [
    {
     "data": {
      "text/plain": [
       "(7,)"
      ]
     },
     "execution_count": 5,
     "metadata": {},
     "output_type": "execute_result"
    }
   ],
   "source": [
    "grades.shape"
   ]
  },
  {
   "cell_type": "markdown",
   "id": "46541ad2",
   "metadata": {},
   "source": [
    "You can also see the type of each columns (the grades values are int in our case):"
   ]
  },
  {
   "cell_type": "code",
   "execution_count": 6,
   "id": "26670d51",
   "metadata": {},
   "outputs": [
    {
     "data": {
      "text/plain": [
       "dtype('int64')"
      ]
     },
     "execution_count": 6,
     "metadata": {},
     "output_type": "execute_result"
    }
   ],
   "source": [
    "grades.dtypes"
   ]
  },
  {
   "cell_type": "markdown",
   "id": "cdf57492",
   "metadata": {},
   "source": [
    "You can also print the 5th first lines of the dataset:"
   ]
  },
  {
   "cell_type": "code",
   "execution_count": 7,
   "id": "31831e62",
   "metadata": {},
   "outputs": [
    {
     "data": {
      "text/plain": [
       "student 1    12\n",
       "student 2     5\n",
       "student 3    18\n",
       "student 4    10\n",
       "student 5    12\n",
       "dtype: int64"
      ]
     },
     "execution_count": 7,
     "metadata": {},
     "output_type": "execute_result"
    }
   ],
   "source": [
    "grades.head() # or the 5th last lines with .tail()"
   ]
  },
  {
   "cell_type": "markdown",
   "id": "63155fa1",
   "metadata": {},
   "source": [
    "Few statistics (description) of the data : "
   ]
  },
  {
   "cell_type": "code",
   "execution_count": 8,
   "id": "35584fe8",
   "metadata": {},
   "outputs": [
    {
     "data": {
      "text/plain": [
       "count     7.000000\n",
       "mean     10.142857\n",
       "std       4.947342\n",
       "min       3.000000\n",
       "25%       7.500000\n",
       "50%      11.000000\n",
       "75%      12.000000\n",
       "max      18.000000\n",
       "dtype: float64"
      ]
     },
     "execution_count": 8,
     "metadata": {},
     "output_type": "execute_result"
    }
   ],
   "source": [
    "grades.describe(include='all')"
   ]
  },
  {
   "cell_type": "markdown",
   "id": "64e09158",
   "metadata": {},
   "source": [
    "### DataFrame\n",
    "\n",
    "A DataFrame matrix corresponds to an individuals-variables matrix where the rows correspond to observations, the columns with attributes describing individuals. "
   ]
  },
  {
   "cell_type": "code",
   "execution_count": 9,
   "id": "347f60b0",
   "metadata": {},
   "outputs": [
    {
     "data": {
      "text/html": [
       "<div>\n",
       "<style scoped>\n",
       "    .dataframe tbody tr th:only-of-type {\n",
       "        vertical-align: middle;\n",
       "    }\n",
       "\n",
       "    .dataframe tbody tr th {\n",
       "        vertical-align: top;\n",
       "    }\n",
       "\n",
       "    .dataframe thead th {\n",
       "        text-align: right;\n",
       "    }\n",
       "</style>\n",
       "<table border=\"1\" class=\"dataframe\">\n",
       "  <thead>\n",
       "    <tr style=\"text-align: right;\">\n",
       "      <th></th>\n",
       "      <th>symboling</th>\n",
       "      <th>normalized_losses</th>\n",
       "      <th>make</th>\n",
       "      <th>fuel_type</th>\n",
       "      <th>aspiration</th>\n",
       "      <th>number_of_doors</th>\n",
       "      <th>body_style</th>\n",
       "      <th>drive_wheels</th>\n",
       "      <th>engine_location</th>\n",
       "      <th>wheel_base</th>\n",
       "      <th>...</th>\n",
       "      <th>engine_size</th>\n",
       "      <th>fuel_system</th>\n",
       "      <th>bore</th>\n",
       "      <th>stroke</th>\n",
       "      <th>compression_ratio</th>\n",
       "      <th>horsepower</th>\n",
       "      <th>peak_rpm</th>\n",
       "      <th>city_mpg</th>\n",
       "      <th>highway_mpg</th>\n",
       "      <th>price</th>\n",
       "    </tr>\n",
       "  </thead>\n",
       "  <tbody>\n",
       "    <tr>\n",
       "      <th>0</th>\n",
       "      <td>3</td>\n",
       "      <td>168</td>\n",
       "      <td>alfa-romero</td>\n",
       "      <td>gas</td>\n",
       "      <td>std</td>\n",
       "      <td>two</td>\n",
       "      <td>convertible</td>\n",
       "      <td>rwd</td>\n",
       "      <td>front</td>\n",
       "      <td>88.6</td>\n",
       "      <td>...</td>\n",
       "      <td>130</td>\n",
       "      <td>mpfi</td>\n",
       "      <td>3.47</td>\n",
       "      <td>2.68</td>\n",
       "      <td>9.0</td>\n",
       "      <td>111</td>\n",
       "      <td>5000</td>\n",
       "      <td>21</td>\n",
       "      <td>27</td>\n",
       "      <td>13495</td>\n",
       "    </tr>\n",
       "    <tr>\n",
       "      <th>1</th>\n",
       "      <td>3</td>\n",
       "      <td>168</td>\n",
       "      <td>alfa-romero</td>\n",
       "      <td>gas</td>\n",
       "      <td>std</td>\n",
       "      <td>two</td>\n",
       "      <td>convertible</td>\n",
       "      <td>rwd</td>\n",
       "      <td>front</td>\n",
       "      <td>88.6</td>\n",
       "      <td>...</td>\n",
       "      <td>130</td>\n",
       "      <td>mpfi</td>\n",
       "      <td>3.47</td>\n",
       "      <td>2.68</td>\n",
       "      <td>9.0</td>\n",
       "      <td>111</td>\n",
       "      <td>5000</td>\n",
       "      <td>21</td>\n",
       "      <td>27</td>\n",
       "      <td>16500</td>\n",
       "    </tr>\n",
       "    <tr>\n",
       "      <th>2</th>\n",
       "      <td>1</td>\n",
       "      <td>168</td>\n",
       "      <td>alfa-romero</td>\n",
       "      <td>gas</td>\n",
       "      <td>std</td>\n",
       "      <td>two</td>\n",
       "      <td>hatchback</td>\n",
       "      <td>rwd</td>\n",
       "      <td>front</td>\n",
       "      <td>94.5</td>\n",
       "      <td>...</td>\n",
       "      <td>152</td>\n",
       "      <td>mpfi</td>\n",
       "      <td>2.68</td>\n",
       "      <td>3.47</td>\n",
       "      <td>9.0</td>\n",
       "      <td>154</td>\n",
       "      <td>5000</td>\n",
       "      <td>19</td>\n",
       "      <td>26</td>\n",
       "      <td>16500</td>\n",
       "    </tr>\n",
       "    <tr>\n",
       "      <th>3</th>\n",
       "      <td>2</td>\n",
       "      <td>164</td>\n",
       "      <td>audi</td>\n",
       "      <td>gas</td>\n",
       "      <td>std</td>\n",
       "      <td>four</td>\n",
       "      <td>sedan</td>\n",
       "      <td>fwd</td>\n",
       "      <td>front</td>\n",
       "      <td>99.8</td>\n",
       "      <td>...</td>\n",
       "      <td>109</td>\n",
       "      <td>mpfi</td>\n",
       "      <td>3.19</td>\n",
       "      <td>3.40</td>\n",
       "      <td>10.0</td>\n",
       "      <td>102</td>\n",
       "      <td>5500</td>\n",
       "      <td>24</td>\n",
       "      <td>30</td>\n",
       "      <td>13950</td>\n",
       "    </tr>\n",
       "    <tr>\n",
       "      <th>4</th>\n",
       "      <td>2</td>\n",
       "      <td>164</td>\n",
       "      <td>audi</td>\n",
       "      <td>gas</td>\n",
       "      <td>std</td>\n",
       "      <td>four</td>\n",
       "      <td>sedan</td>\n",
       "      <td>4wd</td>\n",
       "      <td>front</td>\n",
       "      <td>99.4</td>\n",
       "      <td>...</td>\n",
       "      <td>136</td>\n",
       "      <td>mpfi</td>\n",
       "      <td>3.19</td>\n",
       "      <td>3.40</td>\n",
       "      <td>8.0</td>\n",
       "      <td>115</td>\n",
       "      <td>5500</td>\n",
       "      <td>18</td>\n",
       "      <td>22</td>\n",
       "      <td>17450</td>\n",
       "    </tr>\n",
       "  </tbody>\n",
       "</table>\n",
       "<p>5 rows × 26 columns</p>\n",
       "</div>"
      ],
      "text/plain": [
       "   symboling  normalized_losses         make fuel_type aspiration  \\\n",
       "0          3                168  alfa-romero       gas        std   \n",
       "1          3                168  alfa-romero       gas        std   \n",
       "2          1                168  alfa-romero       gas        std   \n",
       "3          2                164         audi       gas        std   \n",
       "4          2                164         audi       gas        std   \n",
       "\n",
       "  number_of_doors   body_style drive_wheels engine_location  wheel_base  ...  \\\n",
       "0             two  convertible          rwd           front        88.6  ...   \n",
       "1             two  convertible          rwd           front        88.6  ...   \n",
       "2             two    hatchback          rwd           front        94.5  ...   \n",
       "3            four        sedan          fwd           front        99.8  ...   \n",
       "4            four        sedan          4wd           front        99.4  ...   \n",
       "\n",
       "   engine_size  fuel_system  bore  stroke compression_ratio horsepower  \\\n",
       "0          130         mpfi  3.47    2.68               9.0        111   \n",
       "1          130         mpfi  3.47    2.68               9.0        111   \n",
       "2          152         mpfi  2.68    3.47               9.0        154   \n",
       "3          109         mpfi  3.19    3.40              10.0        102   \n",
       "4          136         mpfi  3.19    3.40               8.0        115   \n",
       "\n",
       "   peak_rpm city_mpg  highway_mpg  price  \n",
       "0      5000       21           27  13495  \n",
       "1      5000       21           27  16500  \n",
       "2      5000       19           26  16500  \n",
       "3      5500       24           30  13950  \n",
       "4      5500       18           22  17450  \n",
       "\n",
       "[5 rows x 26 columns]"
      ]
     },
     "execution_count": 9,
     "metadata": {},
     "output_type": "execute_result"
    }
   ],
   "source": [
    "# load a data set from a csv file (available on https://www.kaggle.com/nisargpatel/automobiles )\n",
    "df = pd.read_csv(\"Automobile.csv\")\n",
    "# Print of 5th first lines\n",
    "df.head()"
   ]
  },
  {
   "cell_type": "markdown",
   "id": "99238627",
   "metadata": {},
   "source": [
    "We can use the same function that we use for Series :"
   ]
  },
  {
   "cell_type": "code",
   "execution_count": 10,
   "id": "71e48fb4",
   "metadata": {},
   "outputs": [
    {
     "data": {
      "text/plain": [
       "pandas.core.frame.DataFrame"
      ]
     },
     "execution_count": 10,
     "metadata": {},
     "output_type": "execute_result"
    }
   ],
   "source": [
    "type(df)"
   ]
  },
  {
   "cell_type": "code",
   "execution_count": 11,
   "id": "5d01ab7e",
   "metadata": {},
   "outputs": [
    {
     "name": "stdout",
     "output_type": "stream",
     "text": [
      " Description : \n",
      "          symboling  normalized_losses    make fuel_type aspiration  \\\n",
      "count   201.000000         201.000000     201       201        201   \n",
      "unique         NaN                NaN      22         2          2   \n",
      "top            NaN                NaN  toyota       gas        std   \n",
      "freq           NaN                NaN      32       181        165   \n",
      "mean      0.840796         125.189055     NaN       NaN        NaN   \n",
      "std       1.254802          33.572966     NaN       NaN        NaN   \n",
      "min      -2.000000          65.000000     NaN       NaN        NaN   \n",
      "25%       0.000000         101.000000     NaN       NaN        NaN   \n",
      "50%       1.000000         122.000000     NaN       NaN        NaN   \n",
      "75%       2.000000         150.000000     NaN       NaN        NaN   \n",
      "max       3.000000         256.000000     NaN       NaN        NaN   \n",
      "\n",
      "       number_of_doors body_style drive_wheels engine_location  wheel_base  \\\n",
      "count              201        201          201             201  201.000000   \n",
      "unique               2          5            3               2         NaN   \n",
      "top               four      sedan          fwd           front         NaN   \n",
      "freq               114         94          118             198         NaN   \n",
      "mean               NaN        NaN          NaN             NaN   98.797015   \n",
      "std                NaN        NaN          NaN             NaN    6.066366   \n",
      "min                NaN        NaN          NaN             NaN   86.600000   \n",
      "25%                NaN        NaN          NaN             NaN   94.500000   \n",
      "50%                NaN        NaN          NaN             NaN   97.000000   \n",
      "75%                NaN        NaN          NaN             NaN  102.400000   \n",
      "max                NaN        NaN          NaN             NaN  120.900000   \n",
      "\n",
      "        ...  engine_size  fuel_system        bore      stroke  \\\n",
      "count   ...   201.000000          201  201.000000  201.000000   \n",
      "unique  ...          NaN            8         NaN         NaN   \n",
      "top     ...          NaN         mpfi         NaN         NaN   \n",
      "freq    ...          NaN           92         NaN         NaN   \n",
      "mean    ...   126.875622          NaN    3.329701    3.261741   \n",
      "std     ...    41.546834          NaN    0.268166    0.317875   \n",
      "min     ...    61.000000          NaN    2.540000    2.070000   \n",
      "25%     ...    98.000000          NaN    3.150000    3.110000   \n",
      "50%     ...   120.000000          NaN    3.310000    3.290000   \n",
      "75%     ...   141.000000          NaN    3.580000    3.460000   \n",
      "max     ...   326.000000          NaN    3.940000    4.170000   \n",
      "\n",
      "       compression_ratio  horsepower     peak_rpm    city_mpg  highway_mpg  \\\n",
      "count         201.000000  201.000000   201.000000  201.000000   201.000000   \n",
      "unique               NaN         NaN          NaN         NaN          NaN   \n",
      "top                  NaN         NaN          NaN         NaN          NaN   \n",
      "freq                 NaN         NaN          NaN         NaN          NaN   \n",
      "mean           10.164279  103.263682  5121.393035   25.179104    30.686567   \n",
      "std             4.004965   37.389372   479.624905    6.423220     6.815150   \n",
      "min             7.000000   48.000000  4150.000000   13.000000    16.000000   \n",
      "25%             8.600000   70.000000  4800.000000   19.000000    25.000000   \n",
      "50%             9.000000   95.000000  5200.000000   24.000000    30.000000   \n",
      "75%             9.400000  116.000000  5500.000000   30.000000    34.000000   \n",
      "max            23.000000  262.000000  6600.000000   49.000000    54.000000   \n",
      "\n",
      "               price  \n",
      "count     201.000000  \n",
      "unique           NaN  \n",
      "top              NaN  \n",
      "freq             NaN  \n",
      "mean    13207.129353  \n",
      "std      7947.066342  \n",
      "min      5118.000000  \n",
      "25%      7775.000000  \n",
      "50%     10295.000000  \n",
      "75%     16500.000000  \n",
      "max     45400.000000  \n",
      "\n",
      "[11 rows x 26 columns]\n"
     ]
    }
   ],
   "source": [
    "print(\" Description : \\n\", df.describe(include='all'))"
   ]
  },
  {
   "cell_type": "code",
   "execution_count": 12,
   "id": "8d8d9c8a",
   "metadata": {},
   "outputs": [
    {
     "name": "stdout",
     "output_type": "stream",
     "text": [
      " Type of all columns : \n",
      "  symboling                int64\n",
      "normalized_losses        int64\n",
      "make                    object\n",
      "fuel_type               object\n",
      "aspiration              object\n",
      "number_of_doors         object\n",
      "body_style              object\n",
      "drive_wheels            object\n",
      "engine_location         object\n",
      "wheel_base             float64\n",
      "length                 float64\n",
      "width                  float64\n",
      "height                 float64\n",
      "curb_weight              int64\n",
      "engine_type             object\n",
      "number_of_cylinders     object\n",
      "engine_size              int64\n",
      "fuel_system             object\n",
      "bore                   float64\n",
      "stroke                 float64\n",
      "compression_ratio      float64\n",
      "horsepower               int64\n",
      "peak_rpm                 int64\n",
      "city_mpg                 int64\n",
      "highway_mpg              int64\n",
      "price                    int64\n",
      "dtype: object\n"
     ]
    }
   ],
   "source": [
    "print(\" Type of all columns : \\n \" , df.dtypes)"
   ]
  },
  {
   "cell_type": "markdown",
   "id": "c2697d28",
   "metadata": {},
   "source": [
    "More informations about the data are available with: "
   ]
  },
  {
   "cell_type": "code",
   "execution_count": 13,
   "id": "f61003e5",
   "metadata": {},
   "outputs": [
    {
     "data": {
      "text/plain": [
       "<bound method DataFrame.info of      symboling  normalized_losses         make fuel_type aspiration  \\\n",
       "0            3                168  alfa-romero       gas        std   \n",
       "1            3                168  alfa-romero       gas        std   \n",
       "2            1                168  alfa-romero       gas        std   \n",
       "3            2                164         audi       gas        std   \n",
       "4            2                164         audi       gas        std   \n",
       "..         ...                ...          ...       ...        ...   \n",
       "196         -1                 95        volvo       gas        std   \n",
       "197         -1                 95        volvo       gas      turbo   \n",
       "198         -1                 95        volvo       gas        std   \n",
       "199         -1                 95        volvo    diesel      turbo   \n",
       "200         -1                 95        volvo       gas      turbo   \n",
       "\n",
       "    number_of_doors   body_style drive_wheels engine_location  wheel_base  \\\n",
       "0               two  convertible          rwd           front        88.6   \n",
       "1               two  convertible          rwd           front        88.6   \n",
       "2               two    hatchback          rwd           front        94.5   \n",
       "3              four        sedan          fwd           front        99.8   \n",
       "4              four        sedan          4wd           front        99.4   \n",
       "..              ...          ...          ...             ...         ...   \n",
       "196            four        sedan          rwd           front       109.1   \n",
       "197            four        sedan          rwd           front       109.1   \n",
       "198            four        sedan          rwd           front       109.1   \n",
       "199            four        sedan          rwd           front       109.1   \n",
       "200            four        sedan          rwd           front       109.1   \n",
       "\n",
       "     ...  engine_size  fuel_system  bore  stroke compression_ratio horsepower  \\\n",
       "0    ...          130         mpfi  3.47    2.68               9.0        111   \n",
       "1    ...          130         mpfi  3.47    2.68               9.0        111   \n",
       "2    ...          152         mpfi  2.68    3.47               9.0        154   \n",
       "3    ...          109         mpfi  3.19    3.40              10.0        102   \n",
       "4    ...          136         mpfi  3.19    3.40               8.0        115   \n",
       "..   ...          ...          ...   ...     ...               ...        ...   \n",
       "196  ...          141         mpfi  3.78    3.15               9.5        114   \n",
       "197  ...          141         mpfi  3.78    3.15               8.7        160   \n",
       "198  ...          173         mpfi  3.58    2.87               8.8        134   \n",
       "199  ...          145          idi  3.01    3.40              23.0        106   \n",
       "200  ...          141         mpfi  3.78    3.15               9.5        114   \n",
       "\n",
       "     peak_rpm city_mpg  highway_mpg  price  \n",
       "0        5000       21           27  13495  \n",
       "1        5000       21           27  16500  \n",
       "2        5000       19           26  16500  \n",
       "3        5500       24           30  13950  \n",
       "4        5500       18           22  17450  \n",
       "..        ...      ...          ...    ...  \n",
       "196      5400       23           28  16845  \n",
       "197      5300       19           25  19045  \n",
       "198      5500       18           23  21485  \n",
       "199      4800       26           27  22470  \n",
       "200      5400       19           25  22625  \n",
       "\n",
       "[201 rows x 26 columns]>"
      ]
     },
     "execution_count": 13,
     "metadata": {},
     "output_type": "execute_result"
    }
   ],
   "source": [
    "df.info"
   ]
  },
  {
   "cell_type": "markdown",
   "id": "7254b700",
   "metadata": {},
   "source": [
    "## Indexed access to the data of a DataFrame \n",
    "\n",
    "The values of the DataFrame can be accessed via indices or index ranges. The structure then behaves like a\n",
    "matrix. The top left cell has coordinates (0,0). "
   ]
  },
  {
   "cell_type": "markdown",
   "id": "2209bbbb",
   "metadata": {},
   "source": [
    "### Access columns by name \n",
    "Access one column :"
   ]
  },
  {
   "cell_type": "code",
   "execution_count": 14,
   "id": "78e7a274",
   "metadata": {},
   "outputs": [
    {
     "data": {
      "text/plain": [
       "0      alfa-romero\n",
       "1      alfa-romero\n",
       "2      alfa-romero\n",
       "3             audi\n",
       "4             audi\n",
       "          ...     \n",
       "196          volvo\n",
       "197          volvo\n",
       "198          volvo\n",
       "199          volvo\n",
       "200          volvo\n",
       "Name: make, Length: 201, dtype: object"
      ]
     },
     "execution_count": 14,
     "metadata": {},
     "output_type": "execute_result"
    }
   ],
   "source": [
    "# Access one column containing the names of the cars  \n",
    "df.make"
   ]
  },
  {
   "cell_type": "code",
   "execution_count": 15,
   "id": "cbe3ff7d",
   "metadata": {},
   "outputs": [
    {
     "data": {
      "text/plain": [
       "0      alfa-romero\n",
       "1      alfa-romero\n",
       "2      alfa-romero\n",
       "3             audi\n",
       "4             audi\n",
       "          ...     \n",
       "196          volvo\n",
       "197          volvo\n",
       "198          volvo\n",
       "199          volvo\n",
       "200          volvo\n",
       "Name: make, Length: 201, dtype: object"
      ]
     },
     "execution_count": 15,
     "metadata": {},
     "output_type": "execute_result"
    }
   ],
   "source": [
    "# Equal to previous\n",
    "df['make']"
   ]
  },
  {
   "cell_type": "markdown",
   "id": "a99cb307",
   "metadata": {},
   "source": [
    "To access a set of columns :"
   ]
  },
  {
   "cell_type": "code",
   "execution_count": 16,
   "id": "f099d490",
   "metadata": {},
   "outputs": [
    {
     "data": {
      "text/html": [
       "<div>\n",
       "<style scoped>\n",
       "    .dataframe tbody tr th:only-of-type {\n",
       "        vertical-align: middle;\n",
       "    }\n",
       "\n",
       "    .dataframe tbody tr th {\n",
       "        vertical-align: top;\n",
       "    }\n",
       "\n",
       "    .dataframe thead th {\n",
       "        text-align: right;\n",
       "    }\n",
       "</style>\n",
       "<table border=\"1\" class=\"dataframe\">\n",
       "  <thead>\n",
       "    <tr style=\"text-align: right;\">\n",
       "      <th></th>\n",
       "      <th>make</th>\n",
       "      <th>fuel_type</th>\n",
       "      <th>price</th>\n",
       "    </tr>\n",
       "  </thead>\n",
       "  <tbody>\n",
       "    <tr>\n",
       "      <th>0</th>\n",
       "      <td>alfa-romero</td>\n",
       "      <td>gas</td>\n",
       "      <td>13495</td>\n",
       "    </tr>\n",
       "    <tr>\n",
       "      <th>1</th>\n",
       "      <td>alfa-romero</td>\n",
       "      <td>gas</td>\n",
       "      <td>16500</td>\n",
       "    </tr>\n",
       "    <tr>\n",
       "      <th>2</th>\n",
       "      <td>alfa-romero</td>\n",
       "      <td>gas</td>\n",
       "      <td>16500</td>\n",
       "    </tr>\n",
       "    <tr>\n",
       "      <th>3</th>\n",
       "      <td>audi</td>\n",
       "      <td>gas</td>\n",
       "      <td>13950</td>\n",
       "    </tr>\n",
       "    <tr>\n",
       "      <th>4</th>\n",
       "      <td>audi</td>\n",
       "      <td>gas</td>\n",
       "      <td>17450</td>\n",
       "    </tr>\n",
       "    <tr>\n",
       "      <th>...</th>\n",
       "      <td>...</td>\n",
       "      <td>...</td>\n",
       "      <td>...</td>\n",
       "    </tr>\n",
       "    <tr>\n",
       "      <th>196</th>\n",
       "      <td>volvo</td>\n",
       "      <td>gas</td>\n",
       "      <td>16845</td>\n",
       "    </tr>\n",
       "    <tr>\n",
       "      <th>197</th>\n",
       "      <td>volvo</td>\n",
       "      <td>gas</td>\n",
       "      <td>19045</td>\n",
       "    </tr>\n",
       "    <tr>\n",
       "      <th>198</th>\n",
       "      <td>volvo</td>\n",
       "      <td>gas</td>\n",
       "      <td>21485</td>\n",
       "    </tr>\n",
       "    <tr>\n",
       "      <th>199</th>\n",
       "      <td>volvo</td>\n",
       "      <td>diesel</td>\n",
       "      <td>22470</td>\n",
       "    </tr>\n",
       "    <tr>\n",
       "      <th>200</th>\n",
       "      <td>volvo</td>\n",
       "      <td>gas</td>\n",
       "      <td>22625</td>\n",
       "    </tr>\n",
       "  </tbody>\n",
       "</table>\n",
       "<p>201 rows × 3 columns</p>\n",
       "</div>"
      ],
      "text/plain": [
       "            make fuel_type  price\n",
       "0    alfa-romero       gas  13495\n",
       "1    alfa-romero       gas  16500\n",
       "2    alfa-romero       gas  16500\n",
       "3           audi       gas  13950\n",
       "4           audi       gas  17450\n",
       "..           ...       ...    ...\n",
       "196        volvo       gas  16845\n",
       "197        volvo       gas  19045\n",
       "198        volvo       gas  21485\n",
       "199        volvo    diesel  22470\n",
       "200        volvo       gas  22625\n",
       "\n",
       "[201 rows x 3 columns]"
      ]
     },
     "execution_count": 16,
     "metadata": {},
     "output_type": "execute_result"
    }
   ],
   "source": [
    "# Car brand, fuel type, price\n",
    "df[['make','fuel_type','price']]"
   ]
  },
  {
   "cell_type": "markdown",
   "id": "b63dce2f",
   "metadata": {},
   "source": [
    "### 'iloc'\n",
    "iloc permit integer-location based indexing for selection by position."
   ]
  },
  {
   "cell_type": "code",
   "execution_count": 17,
   "id": "3b3640e4",
   "metadata": {},
   "outputs": [
    {
     "data": {
      "text/plain": [
       "symboling                        3\n",
       "normalized_losses              168\n",
       "make                   alfa-romero\n",
       "fuel_type                      gas\n",
       "aspiration                     std\n",
       "number_of_doors                two\n",
       "body_style             convertible\n",
       "drive_wheels                   rwd\n",
       "engine_location              front\n",
       "wheel_base                    88.6\n",
       "length                       168.8\n",
       "width                         64.1\n",
       "height                        48.8\n",
       "curb_weight                   2548\n",
       "engine_type                   dohc\n",
       "number_of_cylinders           four\n",
       "engine_size                    130\n",
       "fuel_system                   mpfi\n",
       "bore                          3.47\n",
       "stroke                        2.68\n",
       "compression_ratio              9.0\n",
       "horsepower                     111\n",
       "peak_rpm                      5000\n",
       "city_mpg                        21\n",
       "highway_mpg                     27\n",
       "price                        13495\n",
       "Name: 0, dtype: object"
      ]
     },
     "execution_count": 17,
     "metadata": {},
     "output_type": "execute_result"
    }
   ],
   "source": [
    "# 1st row (= index 0) \n",
    "# Result is an object\n",
    "df.iloc[0]"
   ]
  },
  {
   "cell_type": "code",
   "execution_count": 18,
   "id": "b51e2ec6",
   "metadata": {},
   "outputs": [
    {
     "data": {
      "text/html": [
       "<div>\n",
       "<style scoped>\n",
       "    .dataframe tbody tr th:only-of-type {\n",
       "        vertical-align: middle;\n",
       "    }\n",
       "\n",
       "    .dataframe tbody tr th {\n",
       "        vertical-align: top;\n",
       "    }\n",
       "\n",
       "    .dataframe thead th {\n",
       "        text-align: right;\n",
       "    }\n",
       "</style>\n",
       "<table border=\"1\" class=\"dataframe\">\n",
       "  <thead>\n",
       "    <tr style=\"text-align: right;\">\n",
       "      <th></th>\n",
       "      <th>symboling</th>\n",
       "      <th>normalized_losses</th>\n",
       "      <th>make</th>\n",
       "      <th>fuel_type</th>\n",
       "      <th>aspiration</th>\n",
       "      <th>number_of_doors</th>\n",
       "      <th>body_style</th>\n",
       "      <th>drive_wheels</th>\n",
       "      <th>engine_location</th>\n",
       "      <th>wheel_base</th>\n",
       "      <th>...</th>\n",
       "      <th>engine_size</th>\n",
       "      <th>fuel_system</th>\n",
       "      <th>bore</th>\n",
       "      <th>stroke</th>\n",
       "      <th>compression_ratio</th>\n",
       "      <th>horsepower</th>\n",
       "      <th>peak_rpm</th>\n",
       "      <th>city_mpg</th>\n",
       "      <th>highway_mpg</th>\n",
       "      <th>price</th>\n",
       "    </tr>\n",
       "  </thead>\n",
       "  <tbody>\n",
       "    <tr>\n",
       "      <th>0</th>\n",
       "      <td>3</td>\n",
       "      <td>168</td>\n",
       "      <td>alfa-romero</td>\n",
       "      <td>gas</td>\n",
       "      <td>std</td>\n",
       "      <td>two</td>\n",
       "      <td>convertible</td>\n",
       "      <td>rwd</td>\n",
       "      <td>front</td>\n",
       "      <td>88.6</td>\n",
       "      <td>...</td>\n",
       "      <td>130</td>\n",
       "      <td>mpfi</td>\n",
       "      <td>3.47</td>\n",
       "      <td>2.68</td>\n",
       "      <td>9.0</td>\n",
       "      <td>111</td>\n",
       "      <td>5000</td>\n",
       "      <td>21</td>\n",
       "      <td>27</td>\n",
       "      <td>13495</td>\n",
       "    </tr>\n",
       "  </tbody>\n",
       "</table>\n",
       "<p>1 rows × 26 columns</p>\n",
       "</div>"
      ],
      "text/plain": [
       "   symboling  normalized_losses         make fuel_type aspiration  \\\n",
       "0          3                168  alfa-romero       gas        std   \n",
       "\n",
       "  number_of_doors   body_style drive_wheels engine_location  wheel_base  ...  \\\n",
       "0             two  convertible          rwd           front        88.6  ...   \n",
       "\n",
       "   engine_size  fuel_system  bore  stroke compression_ratio horsepower  \\\n",
       "0          130         mpfi  3.47    2.68               9.0        111   \n",
       "\n",
       "   peak_rpm city_mpg  highway_mpg  price  \n",
       "0      5000       21           27  13495  \n",
       "\n",
       "[1 rows x 26 columns]"
      ]
     },
     "execution_count": 18,
     "metadata": {},
     "output_type": "execute_result"
    }
   ],
   "source": [
    "# Same as before but result is a DataFrame\n",
    "df.iloc[[0]]"
   ]
  },
  {
   "cell_type": "code",
   "execution_count": 19,
   "id": "156594a2",
   "metadata": {},
   "outputs": [
    {
     "data": {
      "text/html": [
       "<div>\n",
       "<style scoped>\n",
       "    .dataframe tbody tr th:only-of-type {\n",
       "        vertical-align: middle;\n",
       "    }\n",
       "\n",
       "    .dataframe tbody tr th {\n",
       "        vertical-align: top;\n",
       "    }\n",
       "\n",
       "    .dataframe thead th {\n",
       "        text-align: right;\n",
       "    }\n",
       "</style>\n",
       "<table border=\"1\" class=\"dataframe\">\n",
       "  <thead>\n",
       "    <tr style=\"text-align: right;\">\n",
       "      <th></th>\n",
       "      <th>symboling</th>\n",
       "      <th>normalized_losses</th>\n",
       "      <th>make</th>\n",
       "      <th>fuel_type</th>\n",
       "      <th>aspiration</th>\n",
       "      <th>number_of_doors</th>\n",
       "      <th>body_style</th>\n",
       "      <th>drive_wheels</th>\n",
       "      <th>engine_location</th>\n",
       "      <th>wheel_base</th>\n",
       "      <th>...</th>\n",
       "      <th>engine_size</th>\n",
       "      <th>fuel_system</th>\n",
       "      <th>bore</th>\n",
       "      <th>stroke</th>\n",
       "      <th>compression_ratio</th>\n",
       "      <th>horsepower</th>\n",
       "      <th>peak_rpm</th>\n",
       "      <th>city_mpg</th>\n",
       "      <th>highway_mpg</th>\n",
       "      <th>price</th>\n",
       "    </tr>\n",
       "  </thead>\n",
       "  <tbody>\n",
       "    <tr>\n",
       "      <th>0</th>\n",
       "      <td>3</td>\n",
       "      <td>168</td>\n",
       "      <td>alfa-romero</td>\n",
       "      <td>gas</td>\n",
       "      <td>std</td>\n",
       "      <td>two</td>\n",
       "      <td>convertible</td>\n",
       "      <td>rwd</td>\n",
       "      <td>front</td>\n",
       "      <td>88.6</td>\n",
       "      <td>...</td>\n",
       "      <td>130</td>\n",
       "      <td>mpfi</td>\n",
       "      <td>3.47</td>\n",
       "      <td>2.68</td>\n",
       "      <td>9.0</td>\n",
       "      <td>111</td>\n",
       "      <td>5000</td>\n",
       "      <td>21</td>\n",
       "      <td>27</td>\n",
       "      <td>13495</td>\n",
       "    </tr>\n",
       "    <tr>\n",
       "      <th>1</th>\n",
       "      <td>3</td>\n",
       "      <td>168</td>\n",
       "      <td>alfa-romero</td>\n",
       "      <td>gas</td>\n",
       "      <td>std</td>\n",
       "      <td>two</td>\n",
       "      <td>convertible</td>\n",
       "      <td>rwd</td>\n",
       "      <td>front</td>\n",
       "      <td>88.6</td>\n",
       "      <td>...</td>\n",
       "      <td>130</td>\n",
       "      <td>mpfi</td>\n",
       "      <td>3.47</td>\n",
       "      <td>2.68</td>\n",
       "      <td>9.0</td>\n",
       "      <td>111</td>\n",
       "      <td>5000</td>\n",
       "      <td>21</td>\n",
       "      <td>27</td>\n",
       "      <td>16500</td>\n",
       "    </tr>\n",
       "  </tbody>\n",
       "</table>\n",
       "<p>2 rows × 26 columns</p>\n",
       "</div>"
      ],
      "text/plain": [
       "   symboling  normalized_losses         make fuel_type aspiration  \\\n",
       "0          3                168  alfa-romero       gas        std   \n",
       "1          3                168  alfa-romero       gas        std   \n",
       "\n",
       "  number_of_doors   body_style drive_wheels engine_location  wheel_base  ...  \\\n",
       "0             two  convertible          rwd           front        88.6  ...   \n",
       "1             two  convertible          rwd           front        88.6  ...   \n",
       "\n",
       "   engine_size  fuel_system  bore  stroke compression_ratio horsepower  \\\n",
       "0          130         mpfi  3.47    2.68               9.0        111   \n",
       "1          130         mpfi  3.47    2.68               9.0        111   \n",
       "\n",
       "   peak_rpm city_mpg  highway_mpg  price  \n",
       "0      5000       21           27  13495  \n",
       "1      5000       21           27  16500  \n",
       "\n",
       "[2 rows x 26 columns]"
      ]
     },
     "execution_count": 19,
     "metadata": {},
     "output_type": "execute_result"
    }
   ],
   "source": [
    "# Line 0 and 1, result is a dataFrame\n",
    "df.iloc[[0, 1]]"
   ]
  },
  {
   "cell_type": "code",
   "execution_count": 20,
   "id": "5a0c4524",
   "metadata": {},
   "outputs": [
    {
     "name": "stdout",
     "output_type": "stream",
     "text": [
      "3\n"
     ]
    }
   ],
   "source": [
    "# Value in first column and first row = (0,0) \n",
    "print(df.iloc[0,0])"
   ]
  },
  {
   "cell_type": "code",
   "execution_count": 21,
   "id": "3503968e",
   "metadata": {},
   "outputs": [
    {
     "name": "stdout",
     "output_type": "stream",
     "text": [
      "-1\n"
     ]
    }
   ],
   "source": [
    "# Value in first column and last row \n",
    "print(df.iloc[-1,0])"
   ]
  },
  {
   "cell_type": "code",
   "execution_count": 22,
   "id": "f56c508d",
   "metadata": {},
   "outputs": [
    {
     "name": "stdout",
     "output_type": "stream",
     "text": [
      "            make fuel_type\n",
      "0    alfa-romero       gas\n",
      "1    alfa-romero       gas\n",
      "2    alfa-romero       gas\n",
      "3           audi       gas\n",
      "4           audi       gas\n",
      "..           ...       ...\n",
      "196        volvo       gas\n",
      "197        volvo       gas\n",
      "198        volvo       gas\n",
      "199        volvo    diesel\n",
      "200        volvo       gas\n",
      "\n",
      "[201 rows x 2 columns]\n"
     ]
    }
   ],
   "source": [
    "# All row and columns 2 to 4 (not included)\n",
    "print(df.iloc[:,2:4])"
   ]
  },
  {
   "cell_type": "code",
   "execution_count": 23,
   "id": "473a7ddf",
   "metadata": {},
   "outputs": [
    {
     "name": "stdout",
     "output_type": "stream",
     "text": [
      "          make fuel_type\n",
      "0  alfa-romero       gas\n",
      "1  alfa-romero       gas\n",
      "2  alfa-romero       gas\n",
      "3         audi       gas\n",
      "4         audi       gas\n"
     ]
    }
   ],
   "source": [
    "# 5 first rows and columns 2 to 4 (not included)\n",
    "print(df.iloc[:5,2:4]) # = print(df.iloc[0:5,2:4])"
   ]
  },
  {
   "cell_type": "markdown",
   "id": "8bf7772c",
   "metadata": {},
   "source": [
    "###  'at'\n",
    "Access a single value for a row/column label pair."
   ]
  },
  {
   "cell_type": "code",
   "execution_count": 24,
   "id": "1f062361",
   "metadata": {},
   "outputs": [
    {
     "data": {
      "text/plain": [
       "'gas'"
      ]
     },
     "execution_count": 24,
     "metadata": {},
     "output_type": "execute_result"
    }
   ],
   "source": [
    "# Access to the fuel type of the third (=index 2) car\n",
    "df.at[2,'fuel_type']"
   ]
  },
  {
   "cell_type": "markdown",
   "id": "9e09e9db",
   "metadata": {},
   "source": [
    "### 'loc'\n",
    "It permit access a group of rows and columns by label (s) or a boolean array.\n",
    "\n",
    "We can isolate the subsets of observations meeting criteria defined on the fields. We will use\n",
    "preferably the .loc [,] method in this context. "
   ]
  },
  {
   "cell_type": "code",
   "execution_count": 25,
   "id": "0825be9a",
   "metadata": {},
   "outputs": [
    {
     "name": "stdout",
     "output_type": "stream",
     "text": [
      "     symboling  normalized_losses           make fuel_type aspiration  \\\n",
      "60           0                119          mazda    diesel        std   \n",
      "63           0                105          mazda    diesel        std   \n",
      "64          -1                 93  mercedes-benz    diesel      turbo   \n",
      "65          -1                 93  mercedes-benz    diesel      turbo   \n",
      "66           0                 93  mercedes-benz    diesel      turbo   \n",
      "67          -1                 93  mercedes-benz    diesel      turbo   \n",
      "87           1                128         nissan    diesel        std   \n",
      "105          0                161         peugot    diesel      turbo   \n",
      "107          0                161         peugot    diesel      turbo   \n",
      "109          0                161         peugot    diesel      turbo   \n",
      "111          0                161         peugot    diesel      turbo   \n",
      "113          0                161         peugot    diesel      turbo   \n",
      "154          0                 91         toyota    diesel        std   \n",
      "155          0                 91         toyota    diesel        std   \n",
      "170         -1                 65         toyota    diesel      turbo   \n",
      "178          2                122     volkswagen    diesel        std   \n",
      "180          2                 94     volkswagen    diesel        std   \n",
      "183          2                 94     volkswagen    diesel      turbo   \n",
      "188          0                132     volkswagen    diesel      turbo   \n",
      "199         -1                 95          volvo    diesel      turbo   \n",
      "\n",
      "    number_of_doors body_style drive_wheels engine_location  wheel_base  ...  \\\n",
      "60             four      sedan          fwd           front        98.8  ...   \n",
      "63             four      sedan          rwd           front       104.9  ...   \n",
      "64             four      sedan          rwd           front       110.0  ...   \n",
      "65             four      wagon          rwd           front       110.0  ...   \n",
      "66              two    hardtop          rwd           front       106.7  ...   \n",
      "67             four      sedan          rwd           front       115.6  ...   \n",
      "87              two      sedan          fwd           front        94.5  ...   \n",
      "105            four      sedan          rwd           front       107.9  ...   \n",
      "107            four      wagon          rwd           front       114.2  ...   \n",
      "109            four      sedan          rwd           front       107.9  ...   \n",
      "111            four      wagon          rwd           front       114.2  ...   \n",
      "113            four      sedan          rwd           front       107.9  ...   \n",
      "154            four      sedan          fwd           front        95.7  ...   \n",
      "155            four  hatchback          fwd           front        95.7  ...   \n",
      "170            four      sedan          fwd           front       102.4  ...   \n",
      "178             two      sedan          fwd           front        97.3  ...   \n",
      "180            four      sedan          fwd           front        97.3  ...   \n",
      "183            four      sedan          fwd           front        97.3  ...   \n",
      "188            four      sedan          fwd           front       100.4  ...   \n",
      "199            four      sedan          rwd           front       109.1  ...   \n",
      "\n",
      "     engine_size  fuel_system  bore  stroke compression_ratio horsepower  \\\n",
      "60           122          idi  3.39    3.39              22.7         64   \n",
      "63           134          idi  3.43    3.64              22.0         72   \n",
      "64           183          idi  3.58    3.64              21.5        123   \n",
      "65           183          idi  3.58    3.64              21.5        123   \n",
      "66           183          idi  3.58    3.64              21.5        123   \n",
      "67           183          idi  3.58    3.64              21.5        123   \n",
      "87           103          idi  2.99    3.47              21.9         55   \n",
      "105          152          idi  3.70    3.52              21.0         95   \n",
      "107          152          idi  3.70    3.52              21.0         95   \n",
      "109          152          idi  3.70    3.52              21.0         95   \n",
      "111          152          idi  3.70    3.52              21.0         95   \n",
      "113          152          idi  3.70    3.52              21.0         95   \n",
      "154          110          idi  3.27    3.35              22.5         56   \n",
      "155          110          idi  3.27    3.35              22.5         56   \n",
      "170          110          idi  3.27    3.35              22.5         73   \n",
      "178           97          idi  3.01    3.40              23.0         52   \n",
      "180           97          idi  3.01    3.40              23.0         52   \n",
      "183           97          idi  3.01    3.40              23.0         68   \n",
      "188           97          idi  3.01    3.40              23.0         68   \n",
      "199          145          idi  3.01    3.40              23.0        106   \n",
      "\n",
      "     peak_rpm city_mpg  highway_mpg  price  \n",
      "60       4650       36           42  10795  \n",
      "63       4200       31           39  18344  \n",
      "64       4350       22           25  25552  \n",
      "65       4350       22           25  28248  \n",
      "66       4350       22           25  28176  \n",
      "67       4350       22           25  31600  \n",
      "87       4800       45           50   7099  \n",
      "105      4150       28           33  13200  \n",
      "107      4150       25           25  13860  \n",
      "109      4150       28           33  16900  \n",
      "111      4150       25           25  17075  \n",
      "113      4150       28           33  17950  \n",
      "154      4500       34           36   7898  \n",
      "155      4500       38           47   7788  \n",
      "170      4500       30           33  10698  \n",
      "178      4800       37           46   7775  \n",
      "180      4800       37           46   7995  \n",
      "183      4500       37           42   9495  \n",
      "188      4500       33           38  13845  \n",
      "199      4800       26           27  22470  \n",
      "\n",
      "[20 rows x 26 columns]\n"
     ]
    }
   ],
   "source": [
    "# Diesel car\n",
    "print(df.loc[df['fuel_type']==\"diesel\",:])"
   ]
  },
  {
   "cell_type": "markdown",
   "id": "6c18bd52",
   "metadata": {},
   "source": [
    "## Operations on datas\n",
    "\n",
    "Such as in Numpy, Pandas provides some mathematical operations : "
   ]
  },
  {
   "cell_type": "code",
   "execution_count": 26,
   "id": "3b677332",
   "metadata": {},
   "outputs": [
    {
     "data": {
      "text/plain": [
       "13207.129353233831"
      ]
     },
     "execution_count": 26,
     "metadata": {},
     "output_type": "execute_result"
    }
   ],
   "source": [
    "# mean price\n",
    "df['price'].mean()"
   ]
  },
  {
   "cell_type": "code",
   "execution_count": 27,
   "id": "e898ea13",
   "metadata": {},
   "outputs": [
    {
     "data": {
      "text/plain": [
       "5118"
      ]
     },
     "execution_count": 27,
     "metadata": {},
     "output_type": "execute_result"
    }
   ],
   "source": [
    "# minimal price\n",
    "df['price'].min() # resp max"
   ]
  },
  {
   "cell_type": "markdown",
   "id": "45cb84d4",
   "metadata": {},
   "source": [
    "You can count observations : "
   ]
  },
  {
   "cell_type": "code",
   "execution_count": 28,
   "id": "41c37196",
   "metadata": {},
   "outputs": [],
   "source": [
    "# Number of cars of each brands\n",
    "result = df['make'].value_counts()"
   ]
  },
  {
   "cell_type": "markdown",
   "id": "4054b783",
   "metadata": {},
   "source": [
    "You can plot value in the way you want.\n",
    "For example, a pie chart for the number of cars of each brand : "
   ]
  },
  {
   "cell_type": "code",
   "execution_count": 29,
   "id": "c7101eb0",
   "metadata": {},
   "outputs": [
    {
     "data": {
      "text/plain": [
       "<matplotlib.legend.Legend at 0x7f419175b340>"
      ]
     },
     "execution_count": 29,
     "metadata": {},
     "output_type": "execute_result"
    },
    {
     "data": {
      "image/png": "[encoded data removed]",
      "text/plain": [
       "<Figure size 1080x720 with 1 Axes>"
      ]
     },
     "metadata": {},
     "output_type": "display_data"
    }
   ],
   "source": [
    "plt.figure(1, figsize=(15,10))\n",
    "plt.pie(result)\n",
    "plt.legend(result.index,loc=\"best\")"
   ]
  },
  {
   "cell_type": "markdown",
   "id": "38101058",
   "metadata": {},
   "source": [
    "You can use others functions as apply, sort etc."
   ]
  },
  {
   "cell_type": "markdown",
   "id": "1f6f5fea",
   "metadata": {},
   "source": [
    "Let's conclude this part with all the notions :"
   ]
  },
  {
   "cell_type": "code",
   "execution_count": 30,
   "id": "6bbceeb5",
   "metadata": {},
   "outputs": [
    {
     "data": {
      "text/html": [
       "<div>\n",
       "<style scoped>\n",
       "    .dataframe tbody tr th:only-of-type {\n",
       "        vertical-align: middle;\n",
       "    }\n",
       "\n",
       "    .dataframe tbody tr th {\n",
       "        vertical-align: top;\n",
       "    }\n",
       "\n",
       "    .dataframe thead th {\n",
       "        text-align: right;\n",
       "    }\n",
       "</style>\n",
       "<table border=\"1\" class=\"dataframe\">\n",
       "  <thead>\n",
       "    <tr style=\"text-align: right;\">\n",
       "      <th></th>\n",
       "      <th>symboling</th>\n",
       "      <th>normalized_losses</th>\n",
       "      <th>make</th>\n",
       "      <th>fuel_type</th>\n",
       "      <th>aspiration</th>\n",
       "      <th>number_of_doors</th>\n",
       "      <th>body_style</th>\n",
       "      <th>drive_wheels</th>\n",
       "      <th>engine_location</th>\n",
       "      <th>wheel_base</th>\n",
       "      <th>...</th>\n",
       "      <th>engine_size</th>\n",
       "      <th>fuel_system</th>\n",
       "      <th>bore</th>\n",
       "      <th>stroke</th>\n",
       "      <th>compression_ratio</th>\n",
       "      <th>horsepower</th>\n",
       "      <th>peak_rpm</th>\n",
       "      <th>city_mpg</th>\n",
       "      <th>highway_mpg</th>\n",
       "      <th>price</th>\n",
       "    </tr>\n",
       "  </thead>\n",
       "  <tbody>\n",
       "    <tr>\n",
       "      <th>15</th>\n",
       "      <td>0</td>\n",
       "      <td>149</td>\n",
       "      <td>bmw</td>\n",
       "      <td>gas</td>\n",
       "      <td>std</td>\n",
       "      <td>two</td>\n",
       "      <td>sedan</td>\n",
       "      <td>rwd</td>\n",
       "      <td>front</td>\n",
       "      <td>103.5</td>\n",
       "      <td>...</td>\n",
       "      <td>209</td>\n",
       "      <td>mpfi</td>\n",
       "      <td>3.62</td>\n",
       "      <td>3.39</td>\n",
       "      <td>8.0</td>\n",
       "      <td>182</td>\n",
       "      <td>5400</td>\n",
       "      <td>16</td>\n",
       "      <td>22</td>\n",
       "      <td>41315</td>\n",
       "    </tr>\n",
       "    <tr>\n",
       "      <th>16</th>\n",
       "      <td>0</td>\n",
       "      <td>149</td>\n",
       "      <td>bmw</td>\n",
       "      <td>gas</td>\n",
       "      <td>std</td>\n",
       "      <td>four</td>\n",
       "      <td>sedan</td>\n",
       "      <td>rwd</td>\n",
       "      <td>front</td>\n",
       "      <td>110.0</td>\n",
       "      <td>...</td>\n",
       "      <td>209</td>\n",
       "      <td>mpfi</td>\n",
       "      <td>3.62</td>\n",
       "      <td>3.39</td>\n",
       "      <td>8.0</td>\n",
       "      <td>182</td>\n",
       "      <td>5400</td>\n",
       "      <td>15</td>\n",
       "      <td>20</td>\n",
       "      <td>36880</td>\n",
       "    </tr>\n",
       "    <tr>\n",
       "      <th>45</th>\n",
       "      <td>0</td>\n",
       "      <td>115</td>\n",
       "      <td>jaguar</td>\n",
       "      <td>gas</td>\n",
       "      <td>std</td>\n",
       "      <td>four</td>\n",
       "      <td>sedan</td>\n",
       "      <td>rwd</td>\n",
       "      <td>front</td>\n",
       "      <td>113.0</td>\n",
       "      <td>...</td>\n",
       "      <td>258</td>\n",
       "      <td>mpfi</td>\n",
       "      <td>3.63</td>\n",
       "      <td>4.17</td>\n",
       "      <td>8.1</td>\n",
       "      <td>176</td>\n",
       "      <td>4750</td>\n",
       "      <td>15</td>\n",
       "      <td>19</td>\n",
       "      <td>35550</td>\n",
       "    </tr>\n",
       "    <tr>\n",
       "      <th>46</th>\n",
       "      <td>0</td>\n",
       "      <td>115</td>\n",
       "      <td>jaguar</td>\n",
       "      <td>gas</td>\n",
       "      <td>std</td>\n",
       "      <td>two</td>\n",
       "      <td>sedan</td>\n",
       "      <td>rwd</td>\n",
       "      <td>front</td>\n",
       "      <td>102.0</td>\n",
       "      <td>...</td>\n",
       "      <td>326</td>\n",
       "      <td>mpfi</td>\n",
       "      <td>3.54</td>\n",
       "      <td>2.76</td>\n",
       "      <td>11.5</td>\n",
       "      <td>262</td>\n",
       "      <td>5000</td>\n",
       "      <td>13</td>\n",
       "      <td>17</td>\n",
       "      <td>36000</td>\n",
       "    </tr>\n",
       "    <tr>\n",
       "      <th>69</th>\n",
       "      <td>3</td>\n",
       "      <td>142</td>\n",
       "      <td>mercedes-benz</td>\n",
       "      <td>gas</td>\n",
       "      <td>std</td>\n",
       "      <td>two</td>\n",
       "      <td>convertible</td>\n",
       "      <td>rwd</td>\n",
       "      <td>front</td>\n",
       "      <td>96.6</td>\n",
       "      <td>...</td>\n",
       "      <td>234</td>\n",
       "      <td>mpfi</td>\n",
       "      <td>3.46</td>\n",
       "      <td>3.10</td>\n",
       "      <td>8.3</td>\n",
       "      <td>155</td>\n",
       "      <td>4750</td>\n",
       "      <td>16</td>\n",
       "      <td>18</td>\n",
       "      <td>35056</td>\n",
       "    </tr>\n",
       "    <tr>\n",
       "      <th>70</th>\n",
       "      <td>0</td>\n",
       "      <td>140</td>\n",
       "      <td>mercedes-benz</td>\n",
       "      <td>gas</td>\n",
       "      <td>std</td>\n",
       "      <td>four</td>\n",
       "      <td>sedan</td>\n",
       "      <td>rwd</td>\n",
       "      <td>front</td>\n",
       "      <td>120.9</td>\n",
       "      <td>...</td>\n",
       "      <td>308</td>\n",
       "      <td>mpfi</td>\n",
       "      <td>3.80</td>\n",
       "      <td>3.35</td>\n",
       "      <td>8.0</td>\n",
       "      <td>184</td>\n",
       "      <td>4500</td>\n",
       "      <td>14</td>\n",
       "      <td>16</td>\n",
       "      <td>40960</td>\n",
       "    </tr>\n",
       "    <tr>\n",
       "      <th>71</th>\n",
       "      <td>1</td>\n",
       "      <td>140</td>\n",
       "      <td>mercedes-benz</td>\n",
       "      <td>gas</td>\n",
       "      <td>std</td>\n",
       "      <td>two</td>\n",
       "      <td>hardtop</td>\n",
       "      <td>rwd</td>\n",
       "      <td>front</td>\n",
       "      <td>112.0</td>\n",
       "      <td>...</td>\n",
       "      <td>304</td>\n",
       "      <td>mpfi</td>\n",
       "      <td>3.80</td>\n",
       "      <td>3.35</td>\n",
       "      <td>8.0</td>\n",
       "      <td>184</td>\n",
       "      <td>4500</td>\n",
       "      <td>14</td>\n",
       "      <td>16</td>\n",
       "      <td>45400</td>\n",
       "    </tr>\n",
       "    <tr>\n",
       "      <th>125</th>\n",
       "      <td>3</td>\n",
       "      <td>128</td>\n",
       "      <td>porsche</td>\n",
       "      <td>gas</td>\n",
       "      <td>std</td>\n",
       "      <td>two</td>\n",
       "      <td>convertible</td>\n",
       "      <td>rwd</td>\n",
       "      <td>rear</td>\n",
       "      <td>89.5</td>\n",
       "      <td>...</td>\n",
       "      <td>194</td>\n",
       "      <td>mpfi</td>\n",
       "      <td>3.74</td>\n",
       "      <td>2.90</td>\n",
       "      <td>9.5</td>\n",
       "      <td>207</td>\n",
       "      <td>5900</td>\n",
       "      <td>17</td>\n",
       "      <td>25</td>\n",
       "      <td>37028</td>\n",
       "    </tr>\n",
       "  </tbody>\n",
       "</table>\n",
       "<p>8 rows × 26 columns</p>\n",
       "</div>"
      ],
      "text/plain": [
       "     symboling  normalized_losses           make fuel_type aspiration  \\\n",
       "15           0                149            bmw       gas        std   \n",
       "16           0                149            bmw       gas        std   \n",
       "45           0                115         jaguar       gas        std   \n",
       "46           0                115         jaguar       gas        std   \n",
       "69           3                142  mercedes-benz       gas        std   \n",
       "70           0                140  mercedes-benz       gas        std   \n",
       "71           1                140  mercedes-benz       gas        std   \n",
       "125          3                128        porsche       gas        std   \n",
       "\n",
       "    number_of_doors   body_style drive_wheels engine_location  wheel_base  \\\n",
       "15              two        sedan          rwd           front       103.5   \n",
       "16             four        sedan          rwd           front       110.0   \n",
       "45             four        sedan          rwd           front       113.0   \n",
       "46              two        sedan          rwd           front       102.0   \n",
       "69              two  convertible          rwd           front        96.6   \n",
       "70             four        sedan          rwd           front       120.9   \n",
       "71              two      hardtop          rwd           front       112.0   \n",
       "125             two  convertible          rwd            rear        89.5   \n",
       "\n",
       "     ...  engine_size  fuel_system  bore  stroke compression_ratio horsepower  \\\n",
       "15   ...          209         mpfi  3.62    3.39               8.0        182   \n",
       "16   ...          209         mpfi  3.62    3.39               8.0        182   \n",
       "45   ...          258         mpfi  3.63    4.17               8.1        176   \n",
       "46   ...          326         mpfi  3.54    2.76              11.5        262   \n",
       "69   ...          234         mpfi  3.46    3.10               8.3        155   \n",
       "70   ...          308         mpfi  3.80    3.35               8.0        184   \n",
       "71   ...          304         mpfi  3.80    3.35               8.0        184   \n",
       "125  ...          194         mpfi  3.74    2.90               9.5        207   \n",
       "\n",
       "     peak_rpm city_mpg  highway_mpg  price  \n",
       "15       5400       16           22  41315  \n",
       "16       5400       15           20  36880  \n",
       "45       4750       15           19  35550  \n",
       "46       5000       13           17  36000  \n",
       "69       4750       16           18  35056  \n",
       "70       4500       14           16  40960  \n",
       "71       4500       14           16  45400  \n",
       "125      5900       17           25  37028  \n",
       "\n",
       "[8 rows x 26 columns]"
      ]
     },
     "execution_count": 30,
     "metadata": {},
     "output_type": "execute_result"
    }
   ],
   "source": [
    "# Auto (and their characteristics) with price higher then 35 000\n",
    "df[df['price']>35000]"
   ]
  },
  {
   "cell_type": "code",
   "execution_count": 31,
   "id": "1bd02ef3",
   "metadata": {},
   "outputs": [
    {
     "data": {
      "text/plain": [
       "15               bmw\n",
       "16               bmw\n",
       "45            jaguar\n",
       "46            jaguar\n",
       "69     mercedes-benz\n",
       "70     mercedes-benz\n",
       "71     mercedes-benz\n",
       "125          porsche\n",
       "Name: make, dtype: object"
      ]
     },
     "execution_count": 31,
     "metadata": {},
     "output_type": "execute_result"
    }
   ],
   "source": [
    "# Auto names with price higher then 20 000\n",
    "df[df['price']>35000]['make']"
   ]
  },
  {
   "cell_type": "markdown",
   "id": "b0613a0d",
   "metadata": {},
   "source": [
    "Logical operators allow the conditions to be combined. We use respectively: & for AND, | for OR, and\n",
    "~ for the negation. "
   ]
  },
  {
   "cell_type": "code",
   "execution_count": 32,
   "id": "38e6f7dd",
   "metadata": {},
   "outputs": [
    {
     "data": {
      "text/html": [
       "<div>\n",
       "<style scoped>\n",
       "    .dataframe tbody tr th:only-of-type {\n",
       "        vertical-align: middle;\n",
       "    }\n",
       "\n",
       "    .dataframe tbody tr th {\n",
       "        vertical-align: top;\n",
       "    }\n",
       "\n",
       "    .dataframe thead th {\n",
       "        text-align: right;\n",
       "    }\n",
       "</style>\n",
       "<table border=\"1\" class=\"dataframe\">\n",
       "  <thead>\n",
       "    <tr style=\"text-align: right;\">\n",
       "      <th></th>\n",
       "      <th>symboling</th>\n",
       "      <th>normalized_losses</th>\n",
       "      <th>make</th>\n",
       "      <th>fuel_type</th>\n",
       "      <th>aspiration</th>\n",
       "      <th>number_of_doors</th>\n",
       "      <th>body_style</th>\n",
       "      <th>drive_wheels</th>\n",
       "      <th>engine_location</th>\n",
       "      <th>wheel_base</th>\n",
       "      <th>...</th>\n",
       "      <th>engine_size</th>\n",
       "      <th>fuel_system</th>\n",
       "      <th>bore</th>\n",
       "      <th>stroke</th>\n",
       "      <th>compression_ratio</th>\n",
       "      <th>horsepower</th>\n",
       "      <th>peak_rpm</th>\n",
       "      <th>city_mpg</th>\n",
       "      <th>highway_mpg</th>\n",
       "      <th>price</th>\n",
       "    </tr>\n",
       "  </thead>\n",
       "  <tbody>\n",
       "    <tr>\n",
       "      <th>9</th>\n",
       "      <td>2</td>\n",
       "      <td>192</td>\n",
       "      <td>bmw</td>\n",
       "      <td>gas</td>\n",
       "      <td>std</td>\n",
       "      <td>two</td>\n",
       "      <td>sedan</td>\n",
       "      <td>rwd</td>\n",
       "      <td>front</td>\n",
       "      <td>101.2</td>\n",
       "      <td>...</td>\n",
       "      <td>108</td>\n",
       "      <td>mpfi</td>\n",
       "      <td>3.50</td>\n",
       "      <td>2.80</td>\n",
       "      <td>8.8</td>\n",
       "      <td>101</td>\n",
       "      <td>5800</td>\n",
       "      <td>23</td>\n",
       "      <td>29</td>\n",
       "      <td>16430</td>\n",
       "    </tr>\n",
       "    <tr>\n",
       "      <th>10</th>\n",
       "      <td>0</td>\n",
       "      <td>192</td>\n",
       "      <td>bmw</td>\n",
       "      <td>gas</td>\n",
       "      <td>std</td>\n",
       "      <td>four</td>\n",
       "      <td>sedan</td>\n",
       "      <td>rwd</td>\n",
       "      <td>front</td>\n",
       "      <td>101.2</td>\n",
       "      <td>...</td>\n",
       "      <td>108</td>\n",
       "      <td>mpfi</td>\n",
       "      <td>3.50</td>\n",
       "      <td>2.80</td>\n",
       "      <td>8.8</td>\n",
       "      <td>101</td>\n",
       "      <td>5800</td>\n",
       "      <td>23</td>\n",
       "      <td>29</td>\n",
       "      <td>16925</td>\n",
       "    </tr>\n",
       "    <tr>\n",
       "      <th>11</th>\n",
       "      <td>0</td>\n",
       "      <td>188</td>\n",
       "      <td>bmw</td>\n",
       "      <td>gas</td>\n",
       "      <td>std</td>\n",
       "      <td>two</td>\n",
       "      <td>sedan</td>\n",
       "      <td>rwd</td>\n",
       "      <td>front</td>\n",
       "      <td>101.2</td>\n",
       "      <td>...</td>\n",
       "      <td>164</td>\n",
       "      <td>mpfi</td>\n",
       "      <td>3.31</td>\n",
       "      <td>3.19</td>\n",
       "      <td>9.0</td>\n",
       "      <td>121</td>\n",
       "      <td>4250</td>\n",
       "      <td>21</td>\n",
       "      <td>28</td>\n",
       "      <td>20970</td>\n",
       "    </tr>\n",
       "    <tr>\n",
       "      <th>12</th>\n",
       "      <td>0</td>\n",
       "      <td>188</td>\n",
       "      <td>bmw</td>\n",
       "      <td>gas</td>\n",
       "      <td>std</td>\n",
       "      <td>four</td>\n",
       "      <td>sedan</td>\n",
       "      <td>rwd</td>\n",
       "      <td>front</td>\n",
       "      <td>101.2</td>\n",
       "      <td>...</td>\n",
       "      <td>164</td>\n",
       "      <td>mpfi</td>\n",
       "      <td>3.31</td>\n",
       "      <td>3.19</td>\n",
       "      <td>9.0</td>\n",
       "      <td>121</td>\n",
       "      <td>4250</td>\n",
       "      <td>21</td>\n",
       "      <td>28</td>\n",
       "      <td>21105</td>\n",
       "    </tr>\n",
       "    <tr>\n",
       "      <th>13</th>\n",
       "      <td>1</td>\n",
       "      <td>149</td>\n",
       "      <td>bmw</td>\n",
       "      <td>gas</td>\n",
       "      <td>std</td>\n",
       "      <td>four</td>\n",
       "      <td>sedan</td>\n",
       "      <td>rwd</td>\n",
       "      <td>front</td>\n",
       "      <td>103.5</td>\n",
       "      <td>...</td>\n",
       "      <td>164</td>\n",
       "      <td>mpfi</td>\n",
       "      <td>3.31</td>\n",
       "      <td>3.19</td>\n",
       "      <td>9.0</td>\n",
       "      <td>121</td>\n",
       "      <td>4250</td>\n",
       "      <td>20</td>\n",
       "      <td>25</td>\n",
       "      <td>24565</td>\n",
       "    </tr>\n",
       "    <tr>\n",
       "      <th>14</th>\n",
       "      <td>0</td>\n",
       "      <td>149</td>\n",
       "      <td>bmw</td>\n",
       "      <td>gas</td>\n",
       "      <td>std</td>\n",
       "      <td>four</td>\n",
       "      <td>sedan</td>\n",
       "      <td>rwd</td>\n",
       "      <td>front</td>\n",
       "      <td>103.5</td>\n",
       "      <td>...</td>\n",
       "      <td>209</td>\n",
       "      <td>mpfi</td>\n",
       "      <td>3.62</td>\n",
       "      <td>3.39</td>\n",
       "      <td>8.0</td>\n",
       "      <td>182</td>\n",
       "      <td>5400</td>\n",
       "      <td>16</td>\n",
       "      <td>22</td>\n",
       "      <td>30760</td>\n",
       "    </tr>\n",
       "    <tr>\n",
       "      <th>15</th>\n",
       "      <td>0</td>\n",
       "      <td>149</td>\n",
       "      <td>bmw</td>\n",
       "      <td>gas</td>\n",
       "      <td>std</td>\n",
       "      <td>two</td>\n",
       "      <td>sedan</td>\n",
       "      <td>rwd</td>\n",
       "      <td>front</td>\n",
       "      <td>103.5</td>\n",
       "      <td>...</td>\n",
       "      <td>209</td>\n",
       "      <td>mpfi</td>\n",
       "      <td>3.62</td>\n",
       "      <td>3.39</td>\n",
       "      <td>8.0</td>\n",
       "      <td>182</td>\n",
       "      <td>5400</td>\n",
       "      <td>16</td>\n",
       "      <td>22</td>\n",
       "      <td>41315</td>\n",
       "    </tr>\n",
       "    <tr>\n",
       "      <th>16</th>\n",
       "      <td>0</td>\n",
       "      <td>149</td>\n",
       "      <td>bmw</td>\n",
       "      <td>gas</td>\n",
       "      <td>std</td>\n",
       "      <td>four</td>\n",
       "      <td>sedan</td>\n",
       "      <td>rwd</td>\n",
       "      <td>front</td>\n",
       "      <td>110.0</td>\n",
       "      <td>...</td>\n",
       "      <td>209</td>\n",
       "      <td>mpfi</td>\n",
       "      <td>3.62</td>\n",
       "      <td>3.39</td>\n",
       "      <td>8.0</td>\n",
       "      <td>182</td>\n",
       "      <td>5400</td>\n",
       "      <td>15</td>\n",
       "      <td>20</td>\n",
       "      <td>36880</td>\n",
       "    </tr>\n",
       "  </tbody>\n",
       "</table>\n",
       "<p>8 rows × 26 columns</p>\n",
       "</div>"
      ],
      "text/plain": [
       "    symboling  normalized_losses make fuel_type aspiration number_of_doors  \\\n",
       "9           2                192  bmw       gas        std             two   \n",
       "10          0                192  bmw       gas        std            four   \n",
       "11          0                188  bmw       gas        std             two   \n",
       "12          0                188  bmw       gas        std            four   \n",
       "13          1                149  bmw       gas        std            four   \n",
       "14          0                149  bmw       gas        std            four   \n",
       "15          0                149  bmw       gas        std             two   \n",
       "16          0                149  bmw       gas        std            four   \n",
       "\n",
       "   body_style drive_wheels engine_location  wheel_base  ...  engine_size  \\\n",
       "9       sedan          rwd           front       101.2  ...          108   \n",
       "10      sedan          rwd           front       101.2  ...          108   \n",
       "11      sedan          rwd           front       101.2  ...          164   \n",
       "12      sedan          rwd           front       101.2  ...          164   \n",
       "13      sedan          rwd           front       103.5  ...          164   \n",
       "14      sedan          rwd           front       103.5  ...          209   \n",
       "15      sedan          rwd           front       103.5  ...          209   \n",
       "16      sedan          rwd           front       110.0  ...          209   \n",
       "\n",
       "    fuel_system  bore  stroke compression_ratio horsepower  peak_rpm city_mpg  \\\n",
       "9          mpfi  3.50    2.80               8.8        101      5800       23   \n",
       "10         mpfi  3.50    2.80               8.8        101      5800       23   \n",
       "11         mpfi  3.31    3.19               9.0        121      4250       21   \n",
       "12         mpfi  3.31    3.19               9.0        121      4250       21   \n",
       "13         mpfi  3.31    3.19               9.0        121      4250       20   \n",
       "14         mpfi  3.62    3.39               8.0        182      5400       16   \n",
       "15         mpfi  3.62    3.39               8.0        182      5400       16   \n",
       "16         mpfi  3.62    3.39               8.0        182      5400       15   \n",
       "\n",
       "    highway_mpg  price  \n",
       "9            29  16430  \n",
       "10           29  16925  \n",
       "11           28  20970  \n",
       "12           28  21105  \n",
       "13           25  24565  \n",
       "14           22  30760  \n",
       "15           22  41315  \n",
       "16           20  36880  \n",
       "\n",
       "[8 rows x 26 columns]"
      ]
     },
     "execution_count": 32,
     "metadata": {},
     "output_type": "execute_result"
    }
   ],
   "source": [
    "# All the characteristics for the bmw\n",
    "df[df['make']=='bmw']"
   ]
  },
  {
   "cell_type": "code",
   "execution_count": 33,
   "id": "4394134d",
   "metadata": {},
   "outputs": [
    {
     "data": {
      "text/html": [
       "<div>\n",
       "<style scoped>\n",
       "    .dataframe tbody tr th:only-of-type {\n",
       "        vertical-align: middle;\n",
       "    }\n",
       "\n",
       "    .dataframe tbody tr th {\n",
       "        vertical-align: top;\n",
       "    }\n",
       "\n",
       "    .dataframe thead th {\n",
       "        text-align: right;\n",
       "    }\n",
       "</style>\n",
       "<table border=\"1\" class=\"dataframe\">\n",
       "  <thead>\n",
       "    <tr style=\"text-align: right;\">\n",
       "      <th></th>\n",
       "      <th>symboling</th>\n",
       "      <th>normalized_losses</th>\n",
       "      <th>make</th>\n",
       "      <th>fuel_type</th>\n",
       "      <th>aspiration</th>\n",
       "      <th>number_of_doors</th>\n",
       "      <th>body_style</th>\n",
       "      <th>drive_wheels</th>\n",
       "      <th>engine_location</th>\n",
       "      <th>wheel_base</th>\n",
       "      <th>...</th>\n",
       "      <th>engine_size</th>\n",
       "      <th>fuel_system</th>\n",
       "      <th>bore</th>\n",
       "      <th>stroke</th>\n",
       "      <th>compression_ratio</th>\n",
       "      <th>horsepower</th>\n",
       "      <th>peak_rpm</th>\n",
       "      <th>city_mpg</th>\n",
       "      <th>highway_mpg</th>\n",
       "      <th>price</th>\n",
       "    </tr>\n",
       "  </thead>\n",
       "  <tbody>\n",
       "    <tr>\n",
       "      <th>10</th>\n",
       "      <td>0</td>\n",
       "      <td>192</td>\n",
       "      <td>bmw</td>\n",
       "      <td>gas</td>\n",
       "      <td>std</td>\n",
       "      <td>four</td>\n",
       "      <td>sedan</td>\n",
       "      <td>rwd</td>\n",
       "      <td>front</td>\n",
       "      <td>101.2</td>\n",
       "      <td>...</td>\n",
       "      <td>108</td>\n",
       "      <td>mpfi</td>\n",
       "      <td>3.50</td>\n",
       "      <td>2.80</td>\n",
       "      <td>8.8</td>\n",
       "      <td>101</td>\n",
       "      <td>5800</td>\n",
       "      <td>23</td>\n",
       "      <td>29</td>\n",
       "      <td>16925</td>\n",
       "    </tr>\n",
       "    <tr>\n",
       "      <th>12</th>\n",
       "      <td>0</td>\n",
       "      <td>188</td>\n",
       "      <td>bmw</td>\n",
       "      <td>gas</td>\n",
       "      <td>std</td>\n",
       "      <td>four</td>\n",
       "      <td>sedan</td>\n",
       "      <td>rwd</td>\n",
       "      <td>front</td>\n",
       "      <td>101.2</td>\n",
       "      <td>...</td>\n",
       "      <td>164</td>\n",
       "      <td>mpfi</td>\n",
       "      <td>3.31</td>\n",
       "      <td>3.19</td>\n",
       "      <td>9.0</td>\n",
       "      <td>121</td>\n",
       "      <td>4250</td>\n",
       "      <td>21</td>\n",
       "      <td>28</td>\n",
       "      <td>21105</td>\n",
       "    </tr>\n",
       "    <tr>\n",
       "      <th>13</th>\n",
       "      <td>1</td>\n",
       "      <td>149</td>\n",
       "      <td>bmw</td>\n",
       "      <td>gas</td>\n",
       "      <td>std</td>\n",
       "      <td>four</td>\n",
       "      <td>sedan</td>\n",
       "      <td>rwd</td>\n",
       "      <td>front</td>\n",
       "      <td>103.5</td>\n",
       "      <td>...</td>\n",
       "      <td>164</td>\n",
       "      <td>mpfi</td>\n",
       "      <td>3.31</td>\n",
       "      <td>3.19</td>\n",
       "      <td>9.0</td>\n",
       "      <td>121</td>\n",
       "      <td>4250</td>\n",
       "      <td>20</td>\n",
       "      <td>25</td>\n",
       "      <td>24565</td>\n",
       "    </tr>\n",
       "    <tr>\n",
       "      <th>14</th>\n",
       "      <td>0</td>\n",
       "      <td>149</td>\n",
       "      <td>bmw</td>\n",
       "      <td>gas</td>\n",
       "      <td>std</td>\n",
       "      <td>four</td>\n",
       "      <td>sedan</td>\n",
       "      <td>rwd</td>\n",
       "      <td>front</td>\n",
       "      <td>103.5</td>\n",
       "      <td>...</td>\n",
       "      <td>209</td>\n",
       "      <td>mpfi</td>\n",
       "      <td>3.62</td>\n",
       "      <td>3.39</td>\n",
       "      <td>8.0</td>\n",
       "      <td>182</td>\n",
       "      <td>5400</td>\n",
       "      <td>16</td>\n",
       "      <td>22</td>\n",
       "      <td>30760</td>\n",
       "    </tr>\n",
       "    <tr>\n",
       "      <th>16</th>\n",
       "      <td>0</td>\n",
       "      <td>149</td>\n",
       "      <td>bmw</td>\n",
       "      <td>gas</td>\n",
       "      <td>std</td>\n",
       "      <td>four</td>\n",
       "      <td>sedan</td>\n",
       "      <td>rwd</td>\n",
       "      <td>front</td>\n",
       "      <td>110.0</td>\n",
       "      <td>...</td>\n",
       "      <td>209</td>\n",
       "      <td>mpfi</td>\n",
       "      <td>3.62</td>\n",
       "      <td>3.39</td>\n",
       "      <td>8.0</td>\n",
       "      <td>182</td>\n",
       "      <td>5400</td>\n",
       "      <td>15</td>\n",
       "      <td>20</td>\n",
       "      <td>36880</td>\n",
       "    </tr>\n",
       "  </tbody>\n",
       "</table>\n",
       "<p>5 rows × 26 columns</p>\n",
       "</div>"
      ],
      "text/plain": [
       "    symboling  normalized_losses make fuel_type aspiration number_of_doors  \\\n",
       "10          0                192  bmw       gas        std            four   \n",
       "12          0                188  bmw       gas        std            four   \n",
       "13          1                149  bmw       gas        std            four   \n",
       "14          0                149  bmw       gas        std            four   \n",
       "16          0                149  bmw       gas        std            four   \n",
       "\n",
       "   body_style drive_wheels engine_location  wheel_base  ...  engine_size  \\\n",
       "10      sedan          rwd           front       101.2  ...          108   \n",
       "12      sedan          rwd           front       101.2  ...          164   \n",
       "13      sedan          rwd           front       103.5  ...          164   \n",
       "14      sedan          rwd           front       103.5  ...          209   \n",
       "16      sedan          rwd           front       110.0  ...          209   \n",
       "\n",
       "    fuel_system  bore  stroke compression_ratio horsepower  peak_rpm city_mpg  \\\n",
       "10         mpfi  3.50    2.80               8.8        101      5800       23   \n",
       "12         mpfi  3.31    3.19               9.0        121      4250       21   \n",
       "13         mpfi  3.31    3.19               9.0        121      4250       20   \n",
       "14         mpfi  3.62    3.39               8.0        182      5400       16   \n",
       "16         mpfi  3.62    3.39               8.0        182      5400       15   \n",
       "\n",
       "    highway_mpg  price  \n",
       "10           29  16925  \n",
       "12           28  21105  \n",
       "13           25  24565  \n",
       "14           22  30760  \n",
       "16           20  36880  \n",
       "\n",
       "[5 rows x 26 columns]"
      ]
     },
     "execution_count": 33,
     "metadata": {},
     "output_type": "execute_result"
    }
   ],
   "source": [
    "# Bmw with four doors\n",
    "df.loc[(df['make']=='bmw') & (df['number_of_doors']=='four')]"
   ]
  },
  {
   "cell_type": "code",
   "execution_count": 34,
   "id": "952881be",
   "metadata": {},
   "outputs": [
    {
     "data": {
      "text/html": [
       "<div>\n",
       "<style scoped>\n",
       "    .dataframe tbody tr th:only-of-type {\n",
       "        vertical-align: middle;\n",
       "    }\n",
       "\n",
       "    .dataframe tbody tr th {\n",
       "        vertical-align: top;\n",
       "    }\n",
       "\n",
       "    .dataframe thead th {\n",
       "        text-align: right;\n",
       "    }\n",
       "</style>\n",
       "<table border=\"1\" class=\"dataframe\">\n",
       "  <thead>\n",
       "    <tr style=\"text-align: right;\">\n",
       "      <th></th>\n",
       "      <th>symboling</th>\n",
       "      <th>normalized_losses</th>\n",
       "      <th>make</th>\n",
       "      <th>fuel_type</th>\n",
       "      <th>aspiration</th>\n",
       "      <th>number_of_doors</th>\n",
       "      <th>body_style</th>\n",
       "      <th>drive_wheels</th>\n",
       "      <th>engine_location</th>\n",
       "      <th>wheel_base</th>\n",
       "      <th>...</th>\n",
       "      <th>engine_size</th>\n",
       "      <th>fuel_system</th>\n",
       "      <th>bore</th>\n",
       "      <th>stroke</th>\n",
       "      <th>compression_ratio</th>\n",
       "      <th>horsepower</th>\n",
       "      <th>peak_rpm</th>\n",
       "      <th>city_mpg</th>\n",
       "      <th>highway_mpg</th>\n",
       "      <th>price</th>\n",
       "    </tr>\n",
       "  </thead>\n",
       "  <tbody>\n",
       "    <tr>\n",
       "      <th>71</th>\n",
       "      <td>1</td>\n",
       "      <td>140</td>\n",
       "      <td>mercedes-benz</td>\n",
       "      <td>gas</td>\n",
       "      <td>std</td>\n",
       "      <td>two</td>\n",
       "      <td>hardtop</td>\n",
       "      <td>rwd</td>\n",
       "      <td>front</td>\n",
       "      <td>112.0</td>\n",
       "      <td>...</td>\n",
       "      <td>304</td>\n",
       "      <td>mpfi</td>\n",
       "      <td>3.8</td>\n",
       "      <td>3.35</td>\n",
       "      <td>8.0</td>\n",
       "      <td>184</td>\n",
       "      <td>4500</td>\n",
       "      <td>14</td>\n",
       "      <td>16</td>\n",
       "      <td>45400</td>\n",
       "    </tr>\n",
       "  </tbody>\n",
       "</table>\n",
       "<p>1 rows × 26 columns</p>\n",
       "</div>"
      ],
      "text/plain": [
       "    symboling  normalized_losses           make fuel_type aspiration  \\\n",
       "71          1                140  mercedes-benz       gas        std   \n",
       "\n",
       "   number_of_doors body_style drive_wheels engine_location  wheel_base  ...  \\\n",
       "71             two    hardtop          rwd           front       112.0  ...   \n",
       "\n",
       "    engine_size  fuel_system  bore  stroke compression_ratio horsepower  \\\n",
       "71          304         mpfi   3.8    3.35               8.0        184   \n",
       "\n",
       "    peak_rpm city_mpg  highway_mpg  price  \n",
       "71      4500       14           16  45400  \n",
       "\n",
       "[1 rows x 26 columns]"
      ]
     },
     "execution_count": 34,
     "metadata": {},
     "output_type": "execute_result"
    }
   ],
   "source": [
    "# Which is the cheapest make and costliest make of car in the lot?\n",
    "df[df['price']==df['price'].max()]\n"
   ]
  },
  {
   "cell_type": "code",
   "execution_count": 35,
   "id": "d8308b54",
   "metadata": {},
   "outputs": [
    {
     "data": {
      "text/plain": [
       "toyota    32\n",
       "nissan    18\n",
       "mazda     17\n",
       "Name: make, dtype: int64"
      ]
     },
     "execution_count": 35,
     "metadata": {},
     "output_type": "execute_result"
    }
   ],
   "source": [
    "# What are the 3 most commonly found cars in the dataset?\n",
    "df['make'].value_counts().head(3)"
   ]
  },
  {
   "cell_type": "markdown",
   "id": "63cafa6e",
   "metadata": {},
   "source": [
    "## Clean data"
   ]
  },
  {
   "cell_type": "markdown",
   "id": "6953f4e0",
   "metadata": {},
   "source": [
    "Let's load a new file with missing, NaN values or missing inputs."
   ]
  },
  {
   "cell_type": "code",
   "execution_count": 36,
   "id": "c492d632",
   "metadata": {},
   "outputs": [
    {
     "name": "stdout",
     "output_type": "stream",
     "text": [
      "           PID  ST_NUM     ST_NAME OWN_OCCUPIED NUM_BEDROOMS NUM_BATH SQ_FT\n",
      "0  100001000.0   104.0      PUTNAM            Y            3        1  1000\n",
      "1  100002000.0   197.0   LEXINGTON            N            3      1.5    --\n",
      "2  100003000.0     NaN   LEXINGTON            N          NaN        1   850\n",
      "3  100004000.0   201.0    BERKELEY           12            1      NaN   700\n",
      "4          NaN   203.0    BERKELEY            Y            3        2  1600\n",
      "5  100006000.0   207.0    BERKELEY            Y          NaN        1   800\n",
      "6  100007000.0     NaN  WASHINGTON          NaN            2   HURLEY   950\n",
      "7  100008000.0   213.0     TREMONT            Y            1        1   NaN\n",
      "8  100009000.0   215.0     TREMONT            Y           na        2  1800\n"
     ]
    }
   ],
   "source": [
    "data = pd.read_csv(\"data.csv\",sep = ',')\n",
    "print(data)"
   ]
  },
  {
   "cell_type": "markdown",
   "id": "6810ed8d",
   "metadata": {},
   "source": [
    "You can drop columns.\n",
    "For example we want to delete OWN_OCCUPIED."
   ]
  },
  {
   "cell_type": "code",
   "execution_count": 37,
   "id": "45301ba1",
   "metadata": {},
   "outputs": [],
   "source": [
    "data = data.drop(['OWN_OCCUPIED'], axis=1)"
   ]
  },
  {
   "cell_type": "markdown",
   "id": "1147459e",
   "metadata": {},
   "source": [
    "Or if you want to delete the first and second line: "
   ]
  },
  {
   "cell_type": "code",
   "execution_count": 38,
   "id": "90c5e4f1",
   "metadata": {},
   "outputs": [],
   "source": [
    "data = data.drop([0, 1])"
   ]
  },
  {
   "cell_type": "markdown",
   "id": "7f166016",
   "metadata": {},
   "source": [
    "There are some NaN or missing values. Let’s see how Pandas summarize these values."
   ]
  },
  {
   "cell_type": "code",
   "execution_count": 39,
   "id": "396f8b05",
   "metadata": {},
   "outputs": [
    {
     "data": {
      "text/plain": [
       "PID             1\n",
       "ST_NUM          2\n",
       "ST_NAME         0\n",
       "NUM_BEDROOMS    2\n",
       "NUM_BATH        1\n",
       "SQ_FT           1\n",
       "dtype: int64"
      ]
     },
     "execution_count": 39,
     "metadata": {},
     "output_type": "execute_result"
    }
   ],
   "source": [
    "data.isnull().sum()"
   ]
  },
  {
   "cell_type": "markdown",
   "id": "47e15d7f",
   "metadata": {},
   "source": [
    "We examine the 'ST_NUM' column and ask Pandas if this column contains any NaN."
   ]
  },
  {
   "cell_type": "code",
   "execution_count": 40,
   "id": "de60f2c4",
   "metadata": {},
   "outputs": [
    {
     "data": {
      "text/plain": [
       "2     True\n",
       "3    False\n",
       "4    False\n",
       "5    False\n",
       "6     True\n",
       "7    False\n",
       "8    False\n",
       "Name: ST_NUM, dtype: bool"
      ]
     },
     "execution_count": 40,
     "metadata": {},
     "output_type": "execute_result"
    }
   ],
   "source": [
    "data['ST_NUM'].isnull()"
   ]
  },
  {
   "cell_type": "markdown",
   "id": "d3945f49",
   "metadata": {},
   "source": [
    "\"NA\" were recognized as missing values. Both boolean responses are True.\n",
    "We do the same for 'NUM_BEDROOMS'."
   ]
  },
  {
   "cell_type": "code",
   "execution_count": 41,
   "id": "d302d173",
   "metadata": {},
   "outputs": [
    {
     "data": {
      "text/plain": [
       "2     True\n",
       "3    False\n",
       "4    False\n",
       "5     True\n",
       "6    False\n",
       "7    False\n",
       "8    False\n",
       "Name: NUM_BEDROOMS, dtype: bool"
      ]
     },
     "execution_count": 41,
     "metadata": {},
     "output_type": "execute_result"
    }
   ],
   "source": [
    "data['NUM_BEDROOMS'].isnull()"
   ]
  },
  {
   "cell_type": "markdown",
   "id": "88880da2",
   "metadata": {},
   "source": [
    "Pandas recognized the \"NA\" as a missing value. Unfortunately, the other types weren’t recognized. To resolve this problem we can make a list of missing values."
   ]
  },
  {
   "cell_type": "code",
   "execution_count": 42,
   "id": "5080c20b",
   "metadata": {},
   "outputs": [],
   "source": [
    "missing_values = [\"n/a\", \"na\", \"--\"]\n",
    "data = pd.read_csv(\"data.csv\", na_values = missing_values)"
   ]
  },
  {
   "cell_type": "markdown",
   "id": "0cd927d8",
   "metadata": {},
   "source": [
    "Now, all the missing values are recognized : "
   ]
  },
  {
   "cell_type": "code",
   "execution_count": 43,
   "id": "3a567226",
   "metadata": {},
   "outputs": [
    {
     "data": {
      "text/plain": [
       "0    False\n",
       "1    False\n",
       "2     True\n",
       "3    False\n",
       "4    False\n",
       "5     True\n",
       "6    False\n",
       "7    False\n",
       "8     True\n",
       "Name: NUM_BEDROOMS, dtype: bool"
      ]
     },
     "execution_count": 43,
     "metadata": {},
     "output_type": "execute_result"
    }
   ],
   "source": [
    "data['NUM_BEDROOMS'].isnull()"
   ]
  },
  {
   "cell_type": "markdown",
   "id": "b32bbf27",
   "metadata": {},
   "source": [
    "We can replace this missing values by a number. "
   ]
  },
  {
   "cell_type": "code",
   "execution_count": 44,
   "id": "d64c953d",
   "metadata": {},
   "outputs": [
    {
     "data": {
      "text/plain": [
       "0    False\n",
       "1    False\n",
       "2    False\n",
       "3    False\n",
       "4    False\n",
       "5    False\n",
       "6    False\n",
       "7    False\n",
       "8    False\n",
       "Name: ST_NUM, dtype: bool"
      ]
     },
     "execution_count": 44,
     "metadata": {},
     "output_type": "execute_result"
    }
   ],
   "source": [
    "data['ST_NUM'].fillna(125, inplace=True)\n",
    "data['ST_NUM'].isnull()"
   ]
  },
  {
   "cell_type": "markdown",
   "id": "62f27c86",
   "metadata": {},
   "source": [
    "There are no NaN anymore in ST_NUM."
   ]
  },
  {
   "cell_type": "markdown",
   "id": "bdd61fa1",
   "metadata": {},
   "source": [
    "A very common way to replace missing values is using a median.\n"
   ]
  },
  {
   "cell_type": "code",
   "execution_count": 45,
   "id": "259ffa8d",
   "metadata": {},
   "outputs": [],
   "source": [
    "median = data['NUM_BEDROOMS'].median()\n",
    "data['NUM_BEDROOMS'].fillna(median, inplace=True)"
   ]
  }
 ],
 "metadata": {
  "hide_input": false,
  "kernelspec": {
   "display_name": "Python 3 (ipykernel)",
   "language": "python",
   "name": "python3"
  },
  "language_info": {
   "codemirror_mode": {
    "name": "ipython",
    "version": 3
   },
   "file_extension": ".py",
   "mimetype": "text/x-python",
   "name": "python",
   "nbconvert_exporter": "python",
   "pygments_lexer": "ipython3",
   "version": "3.9.7"
  }
 },
 "nbformat": 4,
 "nbformat_minor": 5
}
